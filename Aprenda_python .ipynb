{
 "cells": [
  {
   "attachments": {},
   "cell_type": "markdown",
   "id": "a43ef7bf",
   "metadata": {},
   "source": [
    " # Print() \n",
    "\n"
   ]
  },
  {
   "cell_type": "markdown",
   "id": "8cbb7192",
   "metadata": {},
   "source": [
    "Para imprimir uma string de texto simples, você pode simplesmente colocá-la entre aspas simples ('') ou duplas (\"\") dentro dos parênteses da função 'print'"
   ]
  },
  {
   "cell_type": "code",
   "execution_count": 77,
   "id": "b809fdbc",
   "metadata": {},
   "outputs": [
    {
     "name": "stdout",
     "output_type": "stream",
     "text": [
      "Olá, mundo!\n"
     ]
    }
   ],
   "source": [
    "print(\"Olá, mundo!\")\n",
    "\n"
   ]
  },
  {
   "cell_type": "code",
   "execution_count": 78,
   "id": "9142dbc7",
   "metadata": {},
   "outputs": [
    {
     "name": "stdout",
     "output_type": "stream",
     "text": [
      "Olá, João!\n"
     ]
    }
   ],
   "source": [
    "###Você também pode usar a função \n",
    "nome = \"João\"\n",
    "print(\"Olá, \" + nome + \"!\")\n"
   ]
  },
  {
   "attachments": {},
   "cell_type": "markdown",
   "id": "e1876877",
   "metadata": {},
   "source": [
    "\n",
    "Você pode imprimir múltiplos valores separados por vírgulas dentro da função 'print()'"
   ]
  },
  {
   "cell_type": "code",
   "execution_count": 79,
   "id": "581a2cd4",
   "metadata": {},
   "outputs": [
    {
     "name": "stdout",
     "output_type": "stream",
     "text": [
      "Um Dois Três\n"
     ]
    }
   ],
   "source": [
    "print(\"Um\", \"Dois\", \"Três\")\n"
   ]
  },
  {
   "attachments": {},
   "cell_type": "markdown",
   "id": "2ed48cb7",
   "metadata": {},
   "source": [
    "\n",
    "Além disso, você pode formatar a saída de uma string de várias maneiras, usando métodos como a formatação de string f-strings ou usando o método '.format()"
   ]
  },
  {
   "attachments": {},
   "cell_type": "markdown",
   "id": "552bbda9",
   "metadata": {},
   "source": [
    "# Input( ) "
   ]
  },
  {
   "attachments": {},
   "cell_type": "markdown",
   "id": "6a7e3e1a",
   "metadata": {},
   "source": [
    "A função 'input( )' é usada para solicitar que o usuário insira dados a partir do teclado durante a execução do programa. Essa função espera que o usuário insira algum texto e pressione a tecla \"Enter\" para enviar os dados.\n",
    "\n",
    "A função 'input( )' pode ser usada com ou sem argumentos. Se nenhum argumento for passado para a função, ela simplesmente espera que o usuário insira algum texto e retorna uma string contendo os dados inseridos. Por exemplo:"
   ]
  },
  {
   "cell_type": "code",
   "execution_count": null,
   "metadata": {},
   "outputs": [],
   "source": [
    "\n",
    "entrada = input()  # espera que o usuário insira algum texto\n",
    "print(\"Você digitou:\", entrada)"
   ]
  },
  {
   "attachments": {},
   "cell_type": "markdown",
   "id": "191d6b2d",
   "metadata": {},
   "source": [
    "Nesse exemplo, a função 'input()' é chamada sem argumentos. Quando o código é executado, o programa aguarda que o usuário insira algum texto. Depois que o usuário pressiona \"Enter\", a string inserida é armazenada na variável entrada e impressa na tela.\n",
    "\n",
    "Você também pode passar uma mensagem como argumento para a função input(), que será exibida para o usuário antes que ele insira os dados. Por exemplo:"
   ]
  },
  {
   "cell_type": "code",
   "execution_count": null,
   "metadata": {},
   "outputs": [],
   "source": [
    "nome = input(\"Qual é o seu nome? \")\n",
    "print(\"Olá,\", nome, \"! Bem-vindo ao meu programa.\")\n"
   ]
  },
  {
   "attachments": {},
   "cell_type": "markdown",
   "id": "24c60838",
   "metadata": {},
   "source": [
    "Nesse exemplo, a função 'input()' é chamada com a mensagem \"Qual é o seu nome?\" como argumento. Quando o código é executado, essa mensagem é exibida para o usuário antes que ele insira o nome. Depois que o usuário insere o nome e pressiona \"Enter\", a string contendo o nome é armazenada na variável nome e uma mensagem de boas-vindas é impressa na tela.\n",
    "\n",
    "É importante lembrar que a função 'input()' sempre retorna uma string, mesmo que o usuário insira um número ou outro tipo de dado. Se você quiser realizar operações matemáticas com os dados inseridos pelo usuário, por exemplo, é necessário converter a string para o tipo de dados apropriado usando as funções 'int()' ou 'float()'.\n",
    "\n",
    "Por exemplo, o seguinte código solicita que o usuário insira dois números inteiros e, em seguida, imprime a soma dos dois números:"
   ]
  },
  {
   "cell_type": "code",
   "execution_count": null,
   "metadata": {},
   "outputs": [],
   "source": [
    "numero1 = int(input(\"Digite o primeiro número: \"))\n",
    "numero2 = int(input(\"Digite o segundo número: \"))\n",
    "soma = numero1 + numero2\n",
    "print(\"A soma é:\", soma)\n"
   ]
  },
  {
   "attachments": {},
   "cell_type": "markdown",
   "id": "c37e8357",
   "metadata": {},
   "source": [
    "Nesse exemplo, a função 'input()' é usada para solicitar que o usuário insira dois números inteiros. As strings retornadas pela função 'input()' são convertidas em inteiros usando a função 'int()', e a soma é calculada e impressa na tela"
   ]
  },
  {
   "attachments": {},
   "cell_type": "markdown",
   "id": "89d0c7b5",
   "metadata": {},
   "source": [
    "                                ## Calculadora simples ##\n",
    "Este exemplo mostra como criar uma calculadora simples que solicita que o usuário insira dois números e uma operação (+, -, *, /). Em seguida, o programa realiza a operação e exibe o resultado."
   ]
  },
  {
   "cell_type": "code",
   "execution_count": null,
   "id": "2022cabf",
   "metadata": {},
   "outputs": [],
   "source": [
    "\n",
    "num1 = float(input(\"Digite o primeiro número: \"))\n",
    "num2 = float(input(\"Digite o segundo número: \"))\n",
    "op = input(\"Digite a operação (+, -, *, /): \")\n",
    "\n",
    "if op == \"+\":\n",
    "    resultado = num1 + num2\n",
    "elif op == \"-\":\n",
    "    resultado = num1 - num2\n",
    "elif op == \"*\":\n",
    "    resultado = num1 * num2\n",
    "elif op == \"/\":\n",
    "    resultado = num1 / num2\n",
    "else:\n",
    "    print(\"Operação inválida.\")\n",
    "\n",
    "print(\"Resultado:\", resultado)"
   ]
  },
  {
   "attachments": {},
   "cell_type": "markdown",
   "id": "c45a0cd3",
   "metadata": {},
   "source": [
    "Nesse exemplo, a função 'input()' é usada para solicitar que o usuário insira dois números e uma operação. Os números são convertidos em float usando a função 'float()', e a operação é armazenada em uma variável de string chamada 'op'. O programa então usa uma estrutura de condição 'if/elif/else' para verificar qual operação foi inserida e executar a operação apropriada. Se a operação inserida não for uma das quatro operações permitidas '(+, -, *, /)', o programa exibe uma mensagem de erro."
   ]
  },
  {
   "attachments": {},
   "cell_type": "markdown",
   "id": "3879a564",
   "metadata": {},
   "source": [
    "                             ## validação de entrada ##\n",
    "Este exemplo mostra como usar a função 'input()' para solicitar que o usuário insira uma data no formato \"dd/mm/aaaa\" e verificar se a entrada é válida."
   ]
  },
  {
   "cell_type": "code",
   "execution_count": 1,
   "id": "da009dce",
   "metadata": {},
   "outputs": [],
   "source": [
    "data = input(\"Digite a data (dd/mm/aaaa): \")\n",
    "\n",
    "dia, mes, ano = data.split(\"/\")\n",
    "\n",
    "if len(ano) != 4 or not ano.isdigit():\n",
    "    print(\"Ano inválido.\")\n",
    "elif len(mes) != 2 or not mes.isdigit() or int(mes) < 1 or int(mes) > 12:\n",
    "    print(\"Mês inválido.\")\n",
    "elif len(dia) != 2 or not dia.isdigit() or int(dia) < 1 or int(dia) > 31:\n",
    "    print(\"Dia inválido.\")\n",
    "else:\n",
    "    print(\"Data válida.\")\n"
   ]
  },
  {
   "attachments": {},
   "cell_type": "markdown",
   "id": "52b7224d",
   "metadata": {},
   "source": [
    "Nesse exemplo, a função 'input()' é usada para solicitar que o usuário insira uma data no formato \"dd/mm/aaaa\". Em seguida, a string contendo a data é dividida em três partes '(dia, mês e ano)' usando o método 'split()'. O programa então verifica se o ano, o mês e o dia são válidos, usando a função isdigit() para verificar se são compostos apenas de dígitos e os operadores lógicos and e or para combinar várias condições. Se a data inserida for válida, o programa exibe uma mensagem informando que a data é válida. Se a data inserida não for válida, o programa exibe uma mensagem informando qual parte da data é inválida."
   ]
  },
  {
   "cell_type": "markdown",
   "id": "55bc19f0",
   "metadata": {},
   "source": []
  },
  {
   "attachments": {},
   "cell_type": "markdown",
   "id": "28fd9ab8",
   "metadata": {},
   "source": [
    "# números "
   ]
  },
  {
   "cell_type": "markdown",
   "id": "8af48e5b",
   "metadata": {},
   "source": [
    "Nesta seção aprenderemos sobre os números  em python e como usá-los "
   ]
  },
  {
   "cell_type": "markdown",
   "id": "cb11a588",
   "metadata": {},
   "source": [
    "Em Python, existem três tipos principais de números:\n",
    "##### inteiros (int),números de ponto flutuante (float) enúmeros complexos (complex).\n",
    "Os números inteiros são números inteiros positivos ou negativos sem parte fracionária. Exemplos de números inteiros em Python incluem -5, 0 e 42.\n",
    "\n",
    "Os números de ponto flutuante são números reais com uma parte fracionária que é representada usando um ponto decimal. Exemplos de números de ponto flutuante em Python incluem 3.14, -0.5 e 2.0.\n",
    "\n",
    "Os números complexos são usados para representar números que incluem uma parte real e uma parte imaginária. Eles são escritos na forma a + bj, onde a é a parte real e b é a parte imaginária. Exemplos de números complexos em Python incluem 2 + 3j e -1.5 + 0.2j.\n",
    "\n",
    "Em Python, você pode realizar operações matemáticas com números usando operadores aritméticos padrão, como adição (+), subtração (-), multiplicação (*), divisão (/), exponenciação (**), módulo (%), etc.\n",
    "\n",
    "Por exemplo, para adicionar dois números, você pode usar o operador '+"
   ]
  },
  {
   "cell_type": "code",
   "execution_count": null,
   "id": "ef2984d2",
   "metadata": {},
   "outputs": [
    {
     "name": "stdout",
     "output_type": "stream",
     "text": [
      "8\n"
     ]
    }
   ],
   "source": [
    "a = 5\n",
    "b = 3\n",
    "c = a + b\n",
    "print(c) \n"
   ]
  },
  {
   "attachments": {},
   "cell_type": "markdown",
   "id": "9abf6568",
   "metadata": {},
   "source": [
    "\n",
    "                           ## Inteiros ##\n",
    "\n",
    "a = 42\n",
    "b = -7\n",
    "c = 0"
   ]
  },
  {
   "attachments": {},
   "cell_type": "markdown",
   "id": "980c8657",
   "metadata": {},
   "source": [
    "                    ## Números de ponto flutuante ##\n",
    "x = 3.14\n",
    "y = -2.5\n",
    "z = 0.0"
   ]
  },
  {
   "attachments": {},
   "cell_type": "markdown",
   "id": "7e9209a5",
   "metadata": {},
   "source": [
    "                     ## Números complexos ##\n",
    "                     \n",
    "\n",
    "\n",
    "p = 2 + 3j\n",
    "q = -1.5 + 0.2j\n",
    "r = complex(0, 1)  # forma alternativa de criar números complexos"
   ]
  },
  {
   "attachments": {},
   "cell_type": "markdown",
   "id": "fc586ab0",
   "metadata": {},
   "source": [
    "                ## Números complexos ##\n",
    "                \n",
    "\n",
    "p = 2 + 3j\n",
    "q = -1.5 + 0.2j\n",
    "r = complex(0, 1)  # forma alternativa de criar números complexos"
   ]
  },
  {
   "attachments": {},
   "cell_type": "markdown",
   "id": "bfa15027",
   "metadata": {},
   "source": [
    "                       ## Funções matemáticas ##\n",
    "\n",
    "valor_absoluto = abs(-10)  # retorna o valor absoluto de -10, que é 10\n",
    "\n",
    "arredondamento = round(3.14159, 2)  # arredonda 3.14159 para 2 casas decimais, resultando em 3.14\n",
    "\n",
    "valor_minimo = min(1, 2, 3, 4)  # retorna o valor mínimo dentre os números 1, 2, 3 e 4, que é 1\n",
    "\n",
    "valor_maximo = max(1, 2, 3, 4)  # retorna o valor máximo dentre os números 1, 2, 3 e 4, que é 4"
   ]
  },
  {
   "cell_type": "markdown",
   "id": "64f6754f",
   "metadata": {},
   "source": [
    "Note que, em Python, você pode usar tanto números inteiros como números de ponto flutuante em operações matemáticas, e o resultado será um número de ponto flutuante, se houver uma divisão, mesmo que todos os números envolvidos sejam inteiros. Por exemplo:"
   ]
  },
  {
   "cell_type": "code",
   "execution_count": 1,
   "id": "11a92aa7",
   "metadata": {},
   "outputs": [
    {
     "name": "stdout",
     "output_type": "stream",
     "text": [
      "2.5\n"
     ]
    }
   ],
   "source": [
    "a = 5\n",
    "b = 2\n",
    "c = a / b  # a divisão de dois inteiros resulta em um número de ponto flutuante\n",
    "print(c)  \n"
   ]
  },
  {
   "cell_type": "markdown",
   "id": "5b50c6a7",
   "metadata": {},
   "source": [
    "Nesta breve introdução aos números em Python, aprendemos que existem três tipos principais de números: inteiros, números de ponto flutuante e números complexos. Aprendemos também que em Python é possível realizar operações matemáticas com operadores aritméticos padrão, como adição, subtração, multiplicação, divisão, exponenciação, módulo, etc.\n",
    "\n",
    "Além disso, vimos que existem funções matemáticas incorporadas em Python, como abs(), round(), min(), max(), pow(), sqrt(), etc., que permitem realizar operações matemáticas mais complexas com números.\n",
    "\n",
    "Por fim, aprendemos que é possível converter um número de um tipo para outro usando funções de conversão de tipo, como int(), float() e complex()"
   ]
  },
  {
   "attachments": {},
   "cell_type": "markdown",
   "id": "193231e8",
   "metadata": {},
   "source": [
    "# Strings"
   ]
  },
  {
   "attachments": {},
   "cell_type": "markdown",
   "id": "ea3adc5b",
   "metadata": {},
   "source": [
    "Uma string é uma sequência de caracteres que pode incluir letras, números e símbolos. Em Python, as strings são definidas entre aspas simples (') ou aspas duplas (\")."
   ]
  },
  {
   "cell_type": "code",
   "execution_count": null,
   "id": "ddb18227",
   "metadata": {},
   "outputs": [],
   "source": [
    "frase1 = 'Olá, mundo!'\n",
    "frase2 = \"Este é um exemplo de string.\"\n",
    "frase3 = \"Esta é outra string.\"\n"
   ]
  },
  {
   "cell_type": "code",
   "execution_count": null,
   "id": "391bfca7",
   "metadata": {},
   "outputs": [
    {
     "name": "stdout",
     "output_type": "stream",
     "text": [
      "Este é um exemplo de string. Esta é outra string.\n"
     ]
    }
   ],
   "source": [
    "# É possível também criar uma string vazia\n",
    "string_vazia = ''\n",
    "\n",
    "# As strings podem ser concatenadas com o operador +\n",
    "frase4 = frase2 + \" \" + frase3\n",
    "print(frase4)  # Este é um exemplo de string. Esta é outra string."
   ]
  },
  {
   "cell_type": "markdown",
   "id": "f1c14945",
   "metadata": {},
   "source": [
    "Alguns caracteres especiais podem ser usados em strings, como a barra invertida (\\). A barra invertida é usada para escapar caracteres especiais ou para quebra de linha em uma string, por exemplo:"
   ]
  },
  {
   "cell_type": "code",
   "execution_count": null,
   "id": "ff742832",
   "metadata": {},
   "outputs": [],
   "source": [
    "frase5 = 'Esta é uma string com uma quebra de\\nlinha.'\n",
    "frase6 = \"Esta é uma string com um caracter \\\"aspas\\\" escapado.\"\n",
    "\n",
    "# Também é possível incluir uma barra invertida em uma string usando duas barras invertidas\n",
    "frase7 = \"Esta é uma string com uma barra invertida: \\\\\""
   ]
  },
  {
   "cell_type": "markdown",
   "id": "aa9e63c2",
   "metadata": {},
   "source": [
    "Além disso, é possível acessar um caractere específico em uma string usando a indexação. A indexação em Python começa em 0. Por exemplo:"
   ]
  },
  {
   "cell_type": "code",
   "execution_count": null,
   "id": "a16b6cb1",
   "metadata": {},
   "outputs": [],
   "source": [
    "frase8 = \"Python é uma linguagem de programação poderosa.\"\n",
    "primeira_letra = frase8[0]  # P\n",
    "segunda_letra = frase8[1]  # y\n",
    "ultima_letra = frase8[-1]  # .\n"
   ]
  },
  {
   "attachments": {},
   "cell_type": "markdown",
   "id": "cedde5de",
   "metadata": {},
   "source": [
    "Por fim, é possível também obter um trecho (ou \"fatia\") da string usando a sintaxe de fatiamento ( ':' ). O primeiro índice especifica o início da fatia e o segundo índice especifica o fim da fatia (exclusivo). Por exemplo:"
   ]
  },
  {
   "cell_type": "code",
   "execution_count": null,
   "id": "9cb35bb1",
   "metadata": {},
   "outputs": [],
   "source": [
    "frase9 = \"Python é uma linguagem de programação poderosa.\"\n",
    "trecho1 = frase9[0:6]  # Python\n",
    "trecho2 = frase9[13:23]  # linguagem\n"
   ]
  },
  {
   "cell_type": "code",
   "execution_count": null,
   "id": "b5448d93",
   "metadata": {},
   "outputs": [
    {
     "name": "stdout",
     "output_type": "stream",
     "text": [
      "Python linguagem \n"
     ]
    }
   ],
   "source": [
    "print(frase9[0:6],frase9[13:23])"
   ]
  },
  {
   "attachments": {},
   "cell_type": "markdown",
   "id": "578829ef",
   "metadata": {},
   "source": [
    "Nesta introdução a strings em Python, aprendemos que as strings são sequências de caracteres definidas entre aspas simples ou duplas. Vimos que a concatenação de strings é feita com o operador '+', e que é possível incluir caracteres especiais em uma string usando a barra invertida.\n",
    "\n",
    "Aprendemos também que é possível acessar um caractere específico em uma string usando a indexação, que começa em 0 em Python. Além disso, vimos que é possível obter um trecho (ou \"fatia\") da string usando a sintaxe de fatiamento.\n",
    "\n",
    "Por fim, vimos alguns exemplos de como criar e manipular strings em Python, incluindo como criar uma string vazia, como escapar caracteres especiais em uma string e como concatenar strings."
   ]
  },
  {
   "attachments": {},
   "cell_type": "markdown",
   "id": "c262d86d",
   "metadata": {},
   "source": [
    "# Formatação de impressão"
   ]
  },
  {
   "attachments": {},
   "cell_type": "markdown",
   "id": "f5995a06",
   "metadata": {},
   "source": [
    "A formatação de impressão é uma técnica usada para criar strings de saída formatadas em Python. Ela permite que você insira valores em uma string formatada, como números ou outras strings, e controle a aparência do resultado final.\n",
    "\n",
    "Em Python, existem várias maneiras de formatar uma string de saída, mas uma das mais comuns é usando o método 'format()'. O método 'format()' substitui qualquer marcador de posição na string (indicado por chaves '{}') com os valores fornecidos. Por exemplo:"
   ]
  },
  {
   "cell_type": "code",
   "execution_count": null,
   "id": "a7284608",
   "metadata": {},
   "outputs": [
    {
     "name": "stdout",
     "output_type": "stream",
     "text": [
      "Meu nome é João e tenho 25 anos de idade.\n"
     ]
    }
   ],
   "source": [
    "nome = \"João\"\n",
    "idade = 25\n",
    "print(\"Meu nome é {} e tenho {} anos de idade.\".format(nome, idade))"
   ]
  },
  {
   "attachments": {},
   "cell_type": "markdown",
   "id": "643f692e",
   "metadata": {},
   "source": [
    "Você também pode especificar o tipo de formatação para valores numéricos, como decimal, ponto flutuante ou notação científica, usando especificadores de tipo. Por exemplo:"
   ]
  },
  {
   "cell_type": "code",
   "execution_count": null,
   "id": "e5215537",
   "metadata": {},
   "outputs": [
    {
     "name": "stdout",
     "output_type": "stream",
     "text": [
      "O número é: 1234.57\n"
     ]
    }
   ],
   "source": [
    "numero = 1234.5678\n",
    "print(\"O número é: {:.2f}\".format(numero))\n",
    "\n"
   ]
  },
  {
   "attachments": {},
   "cell_type": "markdown",
   "id": "620ffc02",
   "metadata": {},
   "source": [
    "Aqui, ':.2f' especifica que o número deve ser formatado como um ponto flutuante com duas casas decimais.\n",
    "\n",
    "Além disso, você pode especificar a largura e a justificação do campo usando o especificador de largura e o especificador de alinhamento. Por exemplo:"
   ]
  },
  {
   "cell_type": "code",
   "execution_count": null,
   "id": "05fdb786",
   "metadata": {},
   "outputs": [
    {
     "name": "stdout",
     "output_type": "stream",
     "text": [
      "|João      |    25    |    Python|\n"
     ]
    }
   ],
   "source": [
    "nome = \"João\"\n",
    "idade = 25\n",
    "print(\"|{:<10}|{:^10}|{:>10}|\".format(nome, idade, \"Python\"))\n"
   ]
  },
  {
   "attachments": {},
   "cell_type": "markdown",
   "id": "16bcf8fc",
   "metadata": {},
   "source": [
    "Aqui, ':<10' especifica que o valor deve ser alinhado à esquerda em um campo de largura 10, ':^10'especifica que o valor deve ser centralizado em um campo de largura 10 e ':>10' especifica que o valor deve ser alinhado à direita em um campo de largura 10.\n",
    "\n",
    "Esses são apenas alguns exemplos de formatação de impressão em Python. Existem outras técnicas e métodos que podem ser usados para formatar strings em Python, incluindo o uso do operador '%' e as f-strings (strings formatadas)."
   ]
  },
  {
   "cell_type": "code",
   "execution_count": null,
   "id": "9d7e8e32",
   "metadata": {},
   "outputs": [
    {
     "name": "stdout",
     "output_type": "stream",
     "text": [
      "Olá, Alice!\n"
     ]
    }
   ],
   "source": [
    "# Exemplo 1: formatando uma string simples\n",
    "nome = \"Alice\"\n",
    "print(\"Olá, {}!\".format(nome))"
   ]
  },
  {
   "attachments": {},
   "cell_type": "markdown",
   "id": "7374df4f",
   "metadata": {},
   "source": [
    "O valor da variável 'nome' é inserido na string usando a sintaxe de marcador de posição '{}'. O método 'format()' substitui automaticamente o marcador de posição pelo valor da variável."
   ]
  },
  {
   "cell_type": "code",
   "execution_count": null,
   "id": "3e1f9c9b",
   "metadata": {},
   "outputs": [
    {
     "name": "stdout",
     "output_type": "stream",
     "text": [
      "Eu tenho 25 anos.\n"
     ]
    }
   ],
   "source": [
    "# Exemplo 2: formatando números inteiros\n",
    "idade = 25\n",
    "print(\"Eu tenho {} anos.\".format(idade))"
   ]
  },
  {
   "attachments": {},
   "cell_type": "markdown",
   "id": "963838a0",
   "metadata": {},
   "source": [
    "A variável 'idade' é inserida na string usando a mesma sintaxe de marcador de posição '{}', mas desta vez o valor é um número inteiro."
   ]
  },
  {
   "cell_type": "code",
   "execution_count": null,
   "id": "aecbfe36",
   "metadata": {},
   "outputs": [
    {
     "name": "stdout",
     "output_type": "stream",
     "text": [
      "O preço é 19.99 reais.\n"
     ]
    }
   ],
   "source": [
    "# Exemplo 3: formatando números de ponto flutuante\n",
    "preco = 19.99\n",
    "print(\"O preço é {:.2f} reais.\".format(preco))"
   ]
  },
  {
   "attachments": {},
   "cell_type": "markdown",
   "id": "283f2e52",
   "metadata": {},
   "source": [
    "A variável 'preco' é inserida na string usando um especificador de tipo ':.2f', que indica que o valor deve ser formatado como um número de ponto flutuante com duas casas decimais."
   ]
  },
  {
   "cell_type": "code",
   "execution_count": null,
   "id": "9feddea1",
   "metadata": {},
   "outputs": [
    {
     "name": "stdout",
     "output_type": "stream",
     "text": [
      "Produto      Preço         Qtde.\n",
      "Maçãs         0.35            10\n",
      "Bananas       0.25             5\n",
      "Laranjas      0.50             3\n"
     ]
    }
   ],
   "source": [
    "# Exemplo 4: formatando valores em colunas\n",
    "produto1 = (\"Maçãs\", 0.35)\n",
    "produto2 = (\"Bananas\", 0.25)\n",
    "produto3 = (\"Laranjas\", 0.50)\n",
    "print(\"{:<10} {:^10} {:>10}\".format(\"Produto\", \"Preço\", \"Qtde.\"))\n",
    "print(\"{:<10} {:^10.2f} {:>10}\".format(produto1[0], produto1[1], 10))\n",
    "print(\"{:<10} {:^10.2f} {:>10}\".format(produto2[0], produto2[1], 5))\n",
    "print(\"{:<10} {:^10.2f} {:>10}\".format(produto3[0], produto3[1], 3))"
   ]
  },
  {
   "attachments": {},
   "cell_type": "markdown",
   "id": "452fb6fe",
   "metadata": {},
   "source": [
    "Uma tabela de 'produtos' é criada usando a formatação de impressão. A função 'format()' é usada para alinhar os valores em colunas. O especificador de largura é usado para definir o comprimento da coluna, enquanto o especificador de alinhamento é usado para definir a posição do valor na coluna. O valor '^' indica centralização, '<' indica alinhamento à esquerda e > indica alinhamento à direita.\n",
    "\n",
    "##### Esses são apenas alguns exemplos de como a formatação de impressão pode ser usada em Python. Com a prática, você se tornará mais confortável com essa técnica e poderá usá-la para criar strings formatadas complexas."
   ]
  },
  {
   "attachments": {},
   "cell_type": "markdown",
   "id": "e6fbd044",
   "metadata": {},
   "source": [
    "# Listas\n",
    "\n"
   ]
  },
  {
   "attachments": {},
   "cell_type": "markdown",
   "id": "5d58c268",
   "metadata": {},
   "source": [
    "As listas são um tipo de dado em Python que permitem armazenar vários valores em uma única variável. Cada elemento da lista é identificado por um índice, que começa em 0 para o primeiro elemento da lista, 1 para o segundo elemento, e assim por diante. Aqui estão alguns exemplos de como usar listas em Python:"
   ]
  },
  {
   "cell_type": "code",
   "execution_count": null,
   "id": "60d2d064",
   "metadata": {},
   "outputs": [
    {
     "name": "stdout",
     "output_type": "stream",
     "text": [
      "[1, 2, 3, 4, 5]\n"
     ]
    }
   ],
   "source": [
    "#criando uma lista de números inteiros\n",
    "numeros = [1, 2, 3, 4, 5]\n",
    "print(numeros)\n",
    "\n"
   ]
  },
  {
   "attachments": {},
   "cell_type": "markdown",
   "id": "46bf5274",
   "metadata": {},
   "source": [
    "Uma lista de números inteiros é criada e atribuída à variável 'numeros'. Os números são separados por vírgulas e os valores são cercados por colchetes '[]'."
   ]
  },
  {
   "cell_type": "code",
   "execution_count": null,
   "id": "b4402355",
   "metadata": {},
   "outputs": [
    {
     "name": "stdout",
     "output_type": "stream",
     "text": [
      "['maçã', 'banana', 'laranja']\n"
     ]
    }
   ],
   "source": [
    "#Criando uma lista de strings\n",
    "frutas = [\"maçã\", \"banana\", \"laranja\"]\n",
    "print(frutas)"
   ]
  },
  {
   "attachments": {},
   "cell_type": "markdown",
   "id": "b0f65b6b",
   "metadata": {},
   "source": [
    "Uma lista de strings é criada e atribuída à variável 'frutas'. As strings também são separadas por vírgulas e os valores são cercados por colchetes '[]'."
   ]
  },
  {
   "cell_type": "code",
   "execution_count": null,
   "id": "fa3b7da3",
   "metadata": {},
   "outputs": [
    {
     "name": "stdout",
     "output_type": "stream",
     "text": [
      "maçã\n"
     ]
    }
   ],
   "source": [
    "#Acessando elementos de uma lista\n",
    "frutas = [\"maçã\", \"banana\", \"laranja\"]\n",
    "print(frutas[0])"
   ]
  },
  {
   "attachments": {},
   "cell_type": "markdown",
   "id": "761f76cf",
   "metadata": {},
   "source": [
    "O primeiro elemento da lista é acessado usando o índice 0."
   ]
  },
  {
   "cell_type": "code",
   "execution_count": null,
   "id": "4a25ed69",
   "metadata": {},
   "outputs": [
    {
     "name": "stdout",
     "output_type": "stream",
     "text": [
      "['maçã', 'banana', 'laranja', 'uva']\n"
     ]
    }
   ],
   "source": [
    "#Adicionando elementos a uma lista\n",
    "frutas = [\"maçã\", \"banana\", \"laranja\"]\n",
    "frutas.append(\"uva\")\n",
    "print(frutas)"
   ]
  },
  {
   "attachments": {},
   "cell_type": "markdown",
   "id": "d501d9b7",
   "metadata": {},
   "source": [
    "A função 'append()' é usada para adicionar um novo elemento '(\"uva\")' à lista frutas."
   ]
  },
  {
   "cell_type": "code",
   "execution_count": null,
   "id": "efb1d63a",
   "metadata": {},
   "outputs": [
    {
     "name": "stdout",
     "output_type": "stream",
     "text": [
      "['maçã', 'laranja']\n"
     ]
    }
   ],
   "source": [
    "#Removendo elementos de uma lista\n",
    "frutas = [\"maçã\", \"banana\", \"laranja\"]\n",
    "frutas.remove(\"banana\")\n",
    "print(frutas)"
   ]
  },
  {
   "attachments": {},
   "cell_type": "markdown",
   "id": "445788b7",
   "metadata": {},
   "source": [
    "A função 'remove()' é usada para remover um elemento '(\"banana\")' da lista frutas."
   ]
  },
  {
   "cell_type": "code",
   "execution_count": null,
   "id": "3ba786be",
   "metadata": {},
   "outputs": [
    {
     "name": "stdout",
     "output_type": "stream",
     "text": [
      "[2, 3]\n"
     ]
    }
   ],
   "source": [
    "#Fatiando uma lista\n",
    "numeros = [1, 2, 3, 4, 5]\n",
    "print(numeros[1:3])"
   ]
  },
  {
   "attachments": {},
   "cell_type": "markdown",
   "id": "b6a6f7e6",
   "metadata": {},
   "source": [
    "A lista 'numeros' é fatiada usando o operador de fatiamento ':'. Neste caso, os elementos da lista com os índices 1 e 2 são retornados."
   ]
  },
  {
   "cell_type": "code",
   "execution_count": null,
   "id": "987c848a",
   "metadata": {},
   "outputs": [
    {
     "name": "stdout",
     "output_type": "stream",
     "text": [
      "maçã\n",
      "banana\n",
      "laranja\n"
     ]
    }
   ],
   "source": [
    "#Percorrendo uma lista com um loop for\n",
    "frutas = [\"maçã\", \"banana\", \"laranja\"]\n",
    "for fruta in frutas:\n",
    "    print(fruta)"
   ]
  },
  {
   "attachments": {},
   "cell_type": "markdown",
   "id": "1fe53b1e",
   "metadata": {},
   "source": [
    "Um loop for é usado para percorrer a lista frutas e imprimir cada elemento."
   ]
  },
  {
   "attachments": {},
   "cell_type": "markdown",
   "id": "d0a70cc7",
   "metadata": {},
   "source": [
    "# Dicionário"
   ]
  },
  {
   "attachments": {},
   "cell_type": "markdown",
   "id": "19538eca",
   "metadata": {},
   "source": [
    "Um dicionário em Python é uma coleção de pares de chave-valor, onde cada chave é única e corresponde a um valor específico. É semelhante a uma lista, mas em vez de acessar elementos por índices numéricos, você usa as chaves para acessar os valores correspondentes.\n",
    "\n",
    "Por exemplo, suponha que você queira armazenar informações sobre um usuário, como seu nome, idade e endereço de e-mail. Você pode usar um dicionário para armazenar essas informações da seguinte maneira:"
   ]
  },
  {
   "cell_type": "code",
   "execution_count": null,
   "id": "8b31feb4",
   "metadata": {},
   "outputs": [],
   "source": [
    "usuario = {\"nome\": \"João\", \"idade\": 30, \"email\": \"joao@example.com\"}\n"
   ]
  },
  {
   "attachments": {},
   "cell_type": "markdown",
   "id": "bcea824f",
   "metadata": {},
   "source": [
    "O dicionário possui três pares de chave-valor, onde as chaves são \"nome\", \"idade\" e \"email\", e os valores correspondentes são \"João\", 30 e \"joao@example.com\". Observe que os valores podem ser de diferentes tipos (no exemplo, temos uma string e um número inteiro).\n",
    "\n",
    "Para acessar um valor específico em um dicionário, você pode usar a chave correspondente da seguinte maneira:"
   ]
  },
  {
   "cell_type": "code",
   "execution_count": null,
   "id": "fa783a0f",
   "metadata": {},
   "outputs": [],
   "source": [
    "nome_do_usuario = usuario[\"nome\"]\n"
   ]
  },
  {
   "attachments": {},
   "cell_type": "markdown",
   "id": "2a69d358",
   "metadata": {},
   "source": [
    "A variável \"nome_do_usuario\" receberá o valor correspondente à chave \"nome\", que é \"João\".\n",
    "\n",
    "Também é possível adicionar ou modificar pares de chave-valor em um dicionário. Por exemplo:"
   ]
  },
  {
   "cell_type": "code",
   "execution_count": null,
   "id": "d4e5b484",
   "metadata": {},
   "outputs": [],
   "source": [
    "usuario[\"cidade\"] = \"Guaibim\"\n",
    "usuario[\"email\"] = \"joao.novo_email@example.com\"\n"
   ]
  },
  {
   "attachments": {},
   "cell_type": "markdown",
   "id": "b947d704",
   "metadata": {},
   "source": [
    "Um novo par chave-valor é adicionado ao dicionário. No segundo exemplo, o valor correspondente à chave \"email\" é alterado.\n",
    "\n",
    "Além disso, você pode percorrer os pares de chave-valor de um dicionário com um loop for da seguinte maneira:"
   ]
  },
  {
   "cell_type": "code",
   "execution_count": null,
   "id": "cc3a1229",
   "metadata": {},
   "outputs": [],
   "source": [
    "for chave, valor in usuario.items():\n",
    "    print(chave, \"=\", valor)\n"
   ]
  },
  {
   "attachments": {},
   "cell_type": "markdown",
   "id": "7305ccd6",
   "metadata": {},
   "source": [
    "Esse loop imprime cada par chave-valor do dicionário na tela.\n",
    "\n",
    "Também é possível verificar se uma chave está presente em um dicionário usando o operador \"in\":"
   ]
  },
  {
   "cell_type": "code",
   "execution_count": null,
   "id": "35346795",
   "metadata": {},
   "outputs": [
    {
     "name": "stdout",
     "output_type": "stream",
     "text": [
      "Idade do usuário: 30\n"
     ]
    }
   ],
   "source": [
    "if \"idade\" in usuario:\n",
    "    print(\"Idade do usuário:\", usuario[\"idade\"])\n"
   ]
  },
  {
   "attachments": {},
   "cell_type": "markdown",
   "id": "19641aea",
   "metadata": {},
   "source": [
    "Finalmente, você pode obter o número de pares de chave-valor em um dicionário usando a função len():"
   ]
  },
  {
   "cell_type": "code",
   "execution_count": null,
   "metadata": {},
   "outputs": [],
   "source": [
    "numero_de_pares = len(usuario)\n"
   ]
  },
  {
   "cell_type": "markdown",
   "id": "14cb91de",
   "metadata": {},
   "source": []
  },
  {
   "attachments": {},
   "cell_type": "markdown",
   "id": "466df8fb",
   "metadata": {},
   "source": [
    "# Tupla"
   ]
  },
  {
   "attachments": {},
   "cell_type": "markdown",
   "id": "f51341ab",
   "metadata": {},
   "source": [
    "Em programação, uma tupla é uma sequência imutável de elementos. Isso significa que, uma vez criada, uma tupla não pode ser alterada. As tuplas são muito semelhantes às listas em Python, mas têm algumas diferenças importantes.\n",
    "\n",
    "As tuplas são criadas usando parênteses () e elementos separados por vírgulas. Por exemplo:"
   ]
  },
  {
   "cell_type": "code",
   "execution_count": null,
   "id": "e06d28ae",
   "metadata": {},
   "outputs": [],
   "source": [
    "tupla = (1, 2, 3, 4, 5)\n"
   ]
  },
  {
   "attachments": {},
   "cell_type": "markdown",
   "id": "b3de791a",
   "metadata": {},
   "source": [
    "Podemos acessar elementos individuais em uma tupla usando índices, assim como em uma lista. Por exemplo:"
   ]
  },
  {
   "cell_type": "code",
   "execution_count": null,
   "id": "3feb87c1",
   "metadata": {},
   "outputs": [],
   "source": [
    "print(tupla[0]) \n",
    "print(tupla[2]) \n"
   ]
  },
  {
   "attachments": {},
   "cell_type": "markdown",
   "id": "cef273e1",
   "metadata": {},
   "source": [
    "As tuplas são úteis quando queremos armazenar um conjunto de elementos imutáveis ​​em uma única variável. Elas são frequentemente usadas para representar coordenadas, cores, dados de tempo e outras informações que não devem ser alteradas após a criação.\n",
    "\n",
    "As tuplas também podem ser desempacotadas em variáveis individuais. Por exemplo:"
   ]
  },
  {
   "cell_type": "code",
   "execution_count": null,
   "id": "a5737240",
   "metadata": {},
   "outputs": [],
   "source": [
    "tupla = (\"João\", 25, \"São Paulo\")\n",
    "nome, idade, cidade = tupla\n"
   ]
  },
  {
   "attachments": {},
   "cell_type": "markdown",
   "id": "f03397a8",
   "metadata": {},
   "source": [
    "Nesse exemplo, os elementos da tupla são atribuídos às variáveis nome, idade e cidade, respectivamente. Isso pode ser útil quando queremos trabalhar com várias informações relacionadas ao mesmo tempo."
   ]
  },
  {
   "attachments": {},
   "cell_type": "markdown",
   "id": "7ddc587a",
   "metadata": {},
   "source": [
    "As tuplas são mais eficientes do que as listas em termos de espaço e velocidade de acesso aos elementos. Isso ocorre porque as tuplas são imutáveis e alocadas em um bloco contíguo de memória, enquanto as listas podem crescer e diminuir dinamicamente e, portanto, precisam ser alocadas e realocadas na memória com frequência.\n",
    "\n",
    "As tuplas podem conter qualquer tipo de elemento, incluindo outras tuplas. Por exemplo:"
   ]
  },
  {
   "cell_type": "code",
   "execution_count": null,
   "id": "678e98c9",
   "metadata": {},
   "outputs": [],
   "source": [
    "tupla1 = (1, 2, 3)\n",
    "tupla2 = ('a', 'b', 'c')\n",
    "tupla3 = (tupla1, tupla2)\n",
    "print(tupla3) \n"
   ]
  },
  {
   "attachments": {},
   "cell_type": "markdown",
   "id": "24ac3cc5",
   "metadata": {},
   "source": [
    "As tuplas suportam as mesmas operações que as listas, como a concatenação de tuplas, a multiplicação de tuplas e a verificação de pertencimento. Por exemplo:\n"
   ]
  },
  {
   "cell_type": "code",
   "execution_count": null,
   "id": "cf9c2705",
   "metadata": {},
   "outputs": [],
   "source": [
    "tupla1 = (1, 2, 3)\n",
    "tupla2 = ('a', 'b', 'c')\n",
    "tupla3 = tupla1 + tupla2\n",
    "print(tupla3) \n",
    "\n",
    "tupla4 = tupla1 * 3\n",
    "print(tupla4) \n",
    "\n",
    "print(2 in tupla1) \n",
    "print('d' in tupla2) \n"
   ]
  },
  {
   "attachments": {},
   "cell_type": "markdown",
   "id": "2d90ae76",
   "metadata": {},
   "source": [
    "Embora as tuplas sejam imutáveis, podemos criar uma nova tupla que contém elementos da tupla original, modificados de alguma forma. Por exemplo:"
   ]
  },
  {
   "cell_type": "code",
   "execution_count": null,
   "id": "19c7b8e3",
   "metadata": {},
   "outputs": [],
   "source": [
    "tupla1 = (1, 2, 3)\n",
    "tupla2 = (4, 5, 6)\n",
    "tupla3 = (tupla1[0],) + tupla2[1:] \n",
    "print(tupla3) \n"
   ]
  },
  {
   "attachments": {},
   "cell_type": "markdown",
   "id": "0b2b86ce",
   "metadata": {},
   "source": [
    "As tuplas podem ser usadas como chaves de dicionários em Python, porque são imutáveis. Isso significa que podemos criar dicionários que usam tuplas como chaves, mas não podemos criar dicionários que usam listas como chaves."
   ]
  }
 ],
 "metadata": {
  "kernelspec": {
   "display_name": "Python 3 (ipykernel)",
   "language": "python",
   "name": "python3"
  },
  "language_info": {
   "codemirror_mode": {
    "name": "ipython",
    "version": 3
   },
   "file_extension": ".py",
   "mimetype": "text/x-python",
   "name": "python",
   "nbconvert_exporter": "python",
   "pygments_lexer": "ipython3",
   "version": "3.11.2"
  }
 },
 "nbformat": 4,
 "nbformat_minor": 5
}
