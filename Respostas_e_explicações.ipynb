{
 "cells": [
  {
   "attachments": {},
   "cell_type": "markdown",
   "metadata": {},
   "source": [
    "# Respostas"
   ]
  },
  {
   "attachments": {},
   "cell_type": "markdown",
   "metadata": {},
   "source": [
    " 1 - Escreva um programa que imprima \"Hello, World!\" na tela.\n",
    "\n",
    "Resposta:"
   ]
  },
  {
   "cell_type": "code",
   "execution_count": null,
   "metadata": {},
   "outputs": [],
   "source": [
    "print(\"Hello, World!\")"
   ]
  },
  {
   "attachments": {},
   "cell_type": "markdown",
   "metadata": {},
   "source": [
    "Explicação: Este é um dos exercícios mais simples em Python, que consiste apenas em imprimir a string \"Hello, World!\" na tela. O comando 'print()' é usado para imprimir o conteúdo entre parênteses na tela."
   ]
  },
  {
   "attachments": {},
   "cell_type": "markdown",
   "metadata": {},
   "source": [
    "2-Escreva um programa que peça ao usuário para digitar um número e imprima o dobro desse número."
   ]
  },
  {
   "cell_type": "code",
   "execution_count": null,
   "metadata": {},
   "outputs": [],
   "source": [
    "num = float(input(\"Digite um número: \"))\n",
    "dobro = num * 2\n",
    "print(\"O dobro de\", num, \"é\", dobro)\n"
   ]
  },
  {
   "attachments": {},
   "cell_type": "markdown",
   "metadata": {},
   "source": [
    "Explicação: Neste exercício, o programa pede ao usuário para digitar um número, que é armazenado na variável 'num' como um número de ponto flutuante. O dobro desse número é então calculado e armazenado na variável 'dobro'. Finalmente, o programa imprime uma mensagem na tela com o número digitado e seu dobro."
   ]
  },
  {
   "attachments": {},
   "cell_type": "markdown",
   "metadata": {},
   "source": [
    "3 - Escreva um programa que peça ao usuário para digitar dois números e imprima a soma, subtração, multiplicação e divisão desses números."
   ]
  },
  {
   "cell_type": "code",
   "execution_count": null,
   "metadata": {},
   "outputs": [],
   "source": [
    "num1 = float(input(\"Digite o primeiro número: \"))\n",
    "num2 = float(input(\"Digite o segundo número: \"))\n",
    "\n",
    "soma = num1 + num2\n",
    "subtracao = num1 - num2\n",
    "multiplicacao = num1 * num2\n",
    "divisao = num1 / num2\n",
    "\n",
    "print(\"Soma:\", soma)\n",
    "print(\"Subtração:\", subtracao)\n",
    "print(\"Multiplicação:\", multiplicacao)\n",
    "print(\"Divisão:\", divisao)\n"
   ]
  },
  {
   "attachments": {},
   "cell_type": "markdown",
   "metadata": {},
   "source": [
    "Explicação: Neste exercício, o programa pede ao usuário para digitar dois números, que são armazenados nas variáveis 'num1' e 'num2' como números de ponto flutuante. A soma, subtração, multiplicação e divisão desses números são então calculadas e armazenadas em variáveis separadas. Finalmente, o programa imprime na tela as respostas para cada operação."
   ]
  },
  {
   "attachments": {},
   "cell_type": "markdown",
   "metadata": {},
   "source": [
    "4- Escreva um programa que peça ao usuário para digitar um número inteiro e determine se esse número é par ou ímpar"
   ]
  },
  {
   "cell_type": "code",
   "execution_count": null,
   "metadata": {},
   "outputs": [],
   "source": [
    "num = int(input(\"Digite um número inteiro: \"))\n",
    "\n",
    "if num % 2 == 0:\n",
    "    print(num, \"é par\")\n",
    "else:\n",
    "    print(num, \"é ímpar\")\n"
   ]
  },
  {
   "attachments": {},
   "cell_type": "markdown",
   "metadata": {},
   "source": [
    "Explicação: Neste exercício, o programa pede ao usuário para digitar um número inteiro, que é armazenado na variável 'num'. O programa então verifica se o número é par ou ímpar usando o operador '%' para obter o resto da divisão por 2. Se o resto for igual a 0, o número é par; caso contrário, é ímpar."
   ]
  },
  {
   "attachments": {},
   "cell_type": "markdown",
   "metadata": {},
   "source": [
    "5 - Escreva um programa que peça ao usuário para digitar sua idade e determine se ele pode votar (idade maior ou igual a 18 anos) ou não."
   ]
  },
  {
   "cell_type": "code",
   "execution_count": null,
   "metadata": {},
   "outputs": [],
   "source": [
    "idade = int(input(\"Digite sua idade: \"))\n",
    "\n",
    "if idade >= 18:\n",
    "    print(\"Você pode votar!\")\n",
    "else:\n",
    "    print(\"Você ainda não pode votar.\")\n"
   ]
  },
  {
   "attachments": {},
   "cell_type": "markdown",
   "metadata": {},
   "source": [
    "Explicação: O código solicita ao usuário que digite sua idade, e em seguida, testa se a idade é maior ou igual a 18 utilizando uma declaração 'if'. Se a condição for verdadeira, o programa imprime \"Você pode votar!\". Caso contrário, o programa imprime \"Você ainda não pode votar.\"."
   ]
  },
  {
   "attachments": {},
   "cell_type": "markdown",
   "metadata": {},
   "source": [
    "6 - Escreva um programa que leia um número inteiro e imprima seu valor absoluto."
   ]
  },
  {
   "cell_type": "code",
   "execution_count": null,
   "metadata": {},
   "outputs": [],
   "source": [
    "num = int(input(\"Digite um número inteiro: \"))\n",
    "valor_absoluto = abs(num)\n",
    "print(\"O valor absoluto de\", num, \"é\", valor_absoluto)\n"
   ]
  },
  {
   "attachments": {},
   "cell_type": "markdown",
   "metadata": {},
   "source": [
    "Explicação: Neste exercício, o programa pede ao usuário para digitar um número inteiro, que é armazenado na variável 'num'. O valor absoluto desse número é calculado usando a função 'abs()' e armazenado na variável 'valor_absoluto'. Finalmente, o programa imprime na tela o valor absoluto do número digitado."
   ]
  },
  {
   "attachments": {},
   "cell_type": "markdown",
   "metadata": {},
   "source": [
    "7 - Escreva um programa que leia um número inteiro e determine se ele é positivo, negativo ou zero."
   ]
  },
  {
   "cell_type": "code",
   "execution_count": null,
   "metadata": {},
   "outputs": [],
   "source": [
    "num = int(input(\"Digite um número inteiro: \"))\n",
    "\n",
    "if num > 0:\n",
    "    print(num, \"é positivo\")\n",
    "elif num < 0:\n",
    "    print(num, \"é negativo\")\n",
    "else:\n",
    "    print(num, \"é zero\")\n"
   ]
  },
  {
   "attachments": {},
   "cell_type": "markdown",
   "metadata": {},
   "source": [
    "Explicação: Neste exercício, o programa pede ao usuário para digitar um número inteiro, que é armazenado na variável num. O programa então verifica se o número é maior que zero, menor que zero ou igual a zero e imprime na tela uma mensagem correspondente"
   ]
  },
  {
   "attachments": {},
   "cell_type": "markdown",
   "metadata": {},
   "source": [
    "8 - Escreva um programa que leia o nome e a idade de duas pessoas e determine quem é mais velho.8"
   ]
  },
  {
   "cell_type": "code",
   "execution_count": null,
   "metadata": {},
   "outputs": [],
   "source": [
    "nome1 = input(\"Digite o nome da primeira pessoa: \")\n",
    "idade1 = int(input(\"Digite a idade da primeira pessoa: \"))\n",
    "nome2 = input(\"Digite o nome da segunda pessoa: \")\n",
    "idade2 = int(input(\"Digite a idade da segunda pessoa: \"))\n",
    "\n",
    "if idade1 > idade2:\n",
    "    print(nome1, \"é mais velho(a) que\", nome2)\n",
    "elif idade2 > idade1:\n",
    "    print(nome2, \"é mais velho(a) que\", nome1)\n",
    "else:\n",
    "    print(nome1, \"e\", nome2, \"têm a mesma idade\")\n"
   ]
  },
  {
   "attachments": {},
   "cell_type": "markdown",
   "metadata": {},
   "source": [
    "Explicação: Neste exercício, o programa pede ao usuário para digitar o nome e a idade de duas pessoas, que são armazenados nas variáveis 'nome1', 'idade1', 'nome2' e 'idade2'. O programa então compara as idades das duas pessoas e imprime na tela uma mensagem correspondente."
   ]
  },
  {
   "attachments": {},
   "cell_type": "markdown",
   "metadata": {},
   "source": [
    "9 - Escreva um programa que leia um número inteiro e determine se ele é primo ou não."
   ]
  },
  {
   "cell_type": "code",
   "execution_count": null,
   "metadata": {},
   "outputs": [],
   "source": [
    "num = int(input(\"Digite um número inteiro: \"))\n",
    "\n",
    "if num <= 1:\n",
    "    print(num, \"não é primo\")\n",
    "else:\n",
    "    primo = True\n",
    "    for i in range(2, num):\n",
    "        if num % i == 0:\n",
    "            primo = False\n",
    "            break\n",
    "    if primo:\n",
    "        print(num, \"é primo\")\n",
    "    else:\n",
    "        print(num, \"não é primo\")\n"
   ]
  },
  {
   "attachments": {},
   "cell_type": "markdown",
   "metadata": {},
   "source": [
    "Explicação: Neste exercício, o programa pede ao usuário para digitar um número inteiro, que é armazenado na variável num. O programa então verifica se o número é menor ou igual a 1; se for, o programa imprime na tela que o número não é primo. "
   ]
  },
  {
   "attachments": {},
   "cell_type": "markdown",
   "metadata": {},
   "source": [
    "10 - Escreva um programa que calcule a média aritmética de três números."
   ]
  },
  {
   "cell_type": "code",
   "execution_count": null,
   "metadata": {},
   "outputs": [],
   "source": [
    "num1 = float(input(\"Digite o primeiro número: \"))\n",
    "num2 = float(input(\"Digite o segundo número: \"))\n",
    "num3 = float(input(\"Digite o terceiro número: \"))\n",
    "\n",
    "media = (num1 + num2 + num3) / 3\n",
    "\n",
    "print(\"A média dos números\", num1, \",\", num2, \"e\", num3, \"é\", media)\n"
   ]
  },
  {
   "attachments": {},
   "cell_type": "markdown",
   "metadata": {},
   "source": [
    "Explicação: Neste exercício, o programa pede ao usuário para digitar três números, que são armazenados nas variáveis 'num1', 'num2' e 'num3'. O programa então calcula a média aritmética desses números e armazena o resultado na variável media. Finalmente, o programa imprime na tela a média dos números digitados."
   ]
  },
  {
   "attachments": {},
   "cell_type": "markdown",
   "metadata": {},
   "source": [
    "11 - Escreva um programa que calcule o fatorial de um número inteiro."
   ]
  },
  {
   "cell_type": "code",
   "execution_count": null,
   "metadata": {},
   "outputs": [],
   "source": [
    "num = int(input(\"Digite um número inteiro: \"))\n",
    "\n",
    "fatorial = 1\n",
    "for i in range(2, num+1):\n",
    "    fatorial *= i\n",
    "\n",
    "print(\"O fatorial de\", num, \"é\", fatorial)\n"
   ]
  },
  {
   "attachments": {},
   "cell_type": "markdown",
   "metadata": {},
   "source": [
    "Explicação: Neste exercício, o programa pede ao usuário para digitar um número inteiro, que é armazenado na variável 'num'. O programa então usa um loop for para calcular o fatorial desse número e armazena o resultado na variável 'fatorial'. Finalmente, o programa imprime na tela o fatorial do número digitado."
   ]
  }
 ],
 "metadata": {
  "kernelspec": {
   "display_name": "base",
   "language": "python",
   "name": "python3"
  },
  "language_info": {
   "codemirror_mode": {
    "name": "ipython",
    "version": 3
   },
   "file_extension": ".py",
   "mimetype": "text/x-python",
   "name": "python",
   "nbconvert_exporter": "python",
   "pygments_lexer": "ipython3",
   "version": "3.10.9"
  },
  "orig_nbformat": 4
 },
 "nbformat": 4,
 "nbformat_minor": 2
}
